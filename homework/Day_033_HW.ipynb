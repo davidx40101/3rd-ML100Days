{
 "cells": [
  {
   "cell_type": "code",
   "execution_count": null,
   "metadata": {},
   "outputs": [],
   "source": [
    "#1.模型的泛化能力 (generalization) 是指什麼？\n",
    "#泛化能力是指機器學習對新資料的適應能力，學習目的是讓模型學習數據隱含背後的規律，對學習集以外的數據也能夠合理的輸出\n",
    "#2.分類問題與回歸問題分別可用的目標函數有哪些？(https://nbviewer.jupyter.org/github/groverpr/Machine-Learning/blob/master/notebooks/05_Loss_Functions.ipynb)\n",
    "#回歸問題 MSE,MAE,Huber loss,Los cosh loss,Quantile loss\n",
    "#分類問題 Binary cross entropy,Negative log likelihood,Cross entropy,Kullback–Leibler divergence"
   ]
  }
 ],
 "metadata": {
  "kernelspec": {
   "display_name": "Python 3",
   "language": "python",
   "name": "python3"
  },
  "language_info": {
   "codemirror_mode": {
    "name": "ipython",
    "version": 3
   },
   "file_extension": ".py",
   "mimetype": "text/x-python",
   "name": "python",
   "nbconvert_exporter": "python",
   "pygments_lexer": "ipython3",
   "version": "3.7.3"
  }
 },
 "nbformat": 4,
 "nbformat_minor": 2
}
