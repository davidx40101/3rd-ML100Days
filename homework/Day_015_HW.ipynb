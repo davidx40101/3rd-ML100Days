{
 "cells": [
  {
   "cell_type": "code",
   "execution_count": 3,
   "metadata": {},
   "outputs": [
    {
     "name": "stdout",
     "output_type": "stream",
     "text": [
      "Path of read in data: D:/Software/GitHub/document/3rd-ML100Days/example/Part01\\application_train.csv\n"
     ]
    },
    {
     "data": {
      "text/html": [
       "<div>\n",
       "<style scoped>\n",
       "    .dataframe tbody tr th:only-of-type {\n",
       "        vertical-align: middle;\n",
       "    }\n",
       "\n",
       "    .dataframe tbody tr th {\n",
       "        vertical-align: top;\n",
       "    }\n",
       "\n",
       "    .dataframe thead th {\n",
       "        text-align: right;\n",
       "    }\n",
       "</style>\n",
       "<table border=\"1\" class=\"dataframe\">\n",
       "  <thead>\n",
       "    <tr style=\"text-align: right;\">\n",
       "      <th></th>\n",
       "      <th>SK_ID_CURR</th>\n",
       "      <th>TARGET</th>\n",
       "      <th>NAME_CONTRACT_TYPE</th>\n",
       "      <th>CODE_GENDER</th>\n",
       "      <th>FLAG_OWN_CAR</th>\n",
       "      <th>FLAG_OWN_REALTY</th>\n",
       "      <th>CNT_CHILDREN</th>\n",
       "      <th>AMT_INCOME_TOTAL</th>\n",
       "      <th>AMT_CREDIT</th>\n",
       "      <th>AMT_ANNUITY</th>\n",
       "      <th>...</th>\n",
       "      <th>FLAG_DOCUMENT_18</th>\n",
       "      <th>FLAG_DOCUMENT_19</th>\n",
       "      <th>FLAG_DOCUMENT_20</th>\n",
       "      <th>FLAG_DOCUMENT_21</th>\n",
       "      <th>AMT_REQ_CREDIT_BUREAU_HOUR</th>\n",
       "      <th>AMT_REQ_CREDIT_BUREAU_DAY</th>\n",
       "      <th>AMT_REQ_CREDIT_BUREAU_WEEK</th>\n",
       "      <th>AMT_REQ_CREDIT_BUREAU_MON</th>\n",
       "      <th>AMT_REQ_CREDIT_BUREAU_QRT</th>\n",
       "      <th>AMT_REQ_CREDIT_BUREAU_YEAR</th>\n",
       "    </tr>\n",
       "  </thead>\n",
       "  <tbody>\n",
       "    <tr>\n",
       "      <th>0</th>\n",
       "      <td>100002</td>\n",
       "      <td>1</td>\n",
       "      <td>Cash loans</td>\n",
       "      <td>M</td>\n",
       "      <td>N</td>\n",
       "      <td>Y</td>\n",
       "      <td>0</td>\n",
       "      <td>202500.0</td>\n",
       "      <td>406597.5</td>\n",
       "      <td>24700.5</td>\n",
       "      <td>...</td>\n",
       "      <td>0</td>\n",
       "      <td>0</td>\n",
       "      <td>0</td>\n",
       "      <td>0</td>\n",
       "      <td>0.0</td>\n",
       "      <td>0.0</td>\n",
       "      <td>0.0</td>\n",
       "      <td>0.0</td>\n",
       "      <td>0.0</td>\n",
       "      <td>1.0</td>\n",
       "    </tr>\n",
       "    <tr>\n",
       "      <th>1</th>\n",
       "      <td>100003</td>\n",
       "      <td>0</td>\n",
       "      <td>Cash loans</td>\n",
       "      <td>F</td>\n",
       "      <td>N</td>\n",
       "      <td>N</td>\n",
       "      <td>0</td>\n",
       "      <td>270000.0</td>\n",
       "      <td>1293502.5</td>\n",
       "      <td>35698.5</td>\n",
       "      <td>...</td>\n",
       "      <td>0</td>\n",
       "      <td>0</td>\n",
       "      <td>0</td>\n",
       "      <td>0</td>\n",
       "      <td>0.0</td>\n",
       "      <td>0.0</td>\n",
       "      <td>0.0</td>\n",
       "      <td>0.0</td>\n",
       "      <td>0.0</td>\n",
       "      <td>0.0</td>\n",
       "    </tr>\n",
       "    <tr>\n",
       "      <th>2</th>\n",
       "      <td>100004</td>\n",
       "      <td>0</td>\n",
       "      <td>Revolving loans</td>\n",
       "      <td>M</td>\n",
       "      <td>Y</td>\n",
       "      <td>Y</td>\n",
       "      <td>0</td>\n",
       "      <td>67500.0</td>\n",
       "      <td>135000.0</td>\n",
       "      <td>6750.0</td>\n",
       "      <td>...</td>\n",
       "      <td>0</td>\n",
       "      <td>0</td>\n",
       "      <td>0</td>\n",
       "      <td>0</td>\n",
       "      <td>0.0</td>\n",
       "      <td>0.0</td>\n",
       "      <td>0.0</td>\n",
       "      <td>0.0</td>\n",
       "      <td>0.0</td>\n",
       "      <td>0.0</td>\n",
       "    </tr>\n",
       "    <tr>\n",
       "      <th>3</th>\n",
       "      <td>100006</td>\n",
       "      <td>0</td>\n",
       "      <td>Cash loans</td>\n",
       "      <td>F</td>\n",
       "      <td>N</td>\n",
       "      <td>Y</td>\n",
       "      <td>0</td>\n",
       "      <td>135000.0</td>\n",
       "      <td>312682.5</td>\n",
       "      <td>29686.5</td>\n",
       "      <td>...</td>\n",
       "      <td>0</td>\n",
       "      <td>0</td>\n",
       "      <td>0</td>\n",
       "      <td>0</td>\n",
       "      <td>NaN</td>\n",
       "      <td>NaN</td>\n",
       "      <td>NaN</td>\n",
       "      <td>NaN</td>\n",
       "      <td>NaN</td>\n",
       "      <td>NaN</td>\n",
       "    </tr>\n",
       "    <tr>\n",
       "      <th>4</th>\n",
       "      <td>100007</td>\n",
       "      <td>0</td>\n",
       "      <td>Cash loans</td>\n",
       "      <td>M</td>\n",
       "      <td>N</td>\n",
       "      <td>Y</td>\n",
       "      <td>0</td>\n",
       "      <td>121500.0</td>\n",
       "      <td>513000.0</td>\n",
       "      <td>21865.5</td>\n",
       "      <td>...</td>\n",
       "      <td>0</td>\n",
       "      <td>0</td>\n",
       "      <td>0</td>\n",
       "      <td>0</td>\n",
       "      <td>0.0</td>\n",
       "      <td>0.0</td>\n",
       "      <td>0.0</td>\n",
       "      <td>0.0</td>\n",
       "      <td>0.0</td>\n",
       "      <td>0.0</td>\n",
       "    </tr>\n",
       "  </tbody>\n",
       "</table>\n",
       "<p>5 rows × 122 columns</p>\n",
       "</div>"
      ],
      "text/plain": [
       "   SK_ID_CURR  TARGET NAME_CONTRACT_TYPE CODE_GENDER FLAG_OWN_CAR  \\\n",
       "0      100002       1         Cash loans           M            N   \n",
       "1      100003       0         Cash loans           F            N   \n",
       "2      100004       0    Revolving loans           M            Y   \n",
       "3      100006       0         Cash loans           F            N   \n",
       "4      100007       0         Cash loans           M            N   \n",
       "\n",
       "  FLAG_OWN_REALTY  CNT_CHILDREN  AMT_INCOME_TOTAL  AMT_CREDIT  AMT_ANNUITY  \\\n",
       "0               Y             0          202500.0    406597.5      24700.5   \n",
       "1               N             0          270000.0   1293502.5      35698.5   \n",
       "2               Y             0           67500.0    135000.0       6750.0   \n",
       "3               Y             0          135000.0    312682.5      29686.5   \n",
       "4               Y             0          121500.0    513000.0      21865.5   \n",
       "\n",
       "   ...  FLAG_DOCUMENT_18 FLAG_DOCUMENT_19 FLAG_DOCUMENT_20 FLAG_DOCUMENT_21  \\\n",
       "0  ...                 0                0                0                0   \n",
       "1  ...                 0                0                0                0   \n",
       "2  ...                 0                0                0                0   \n",
       "3  ...                 0                0                0                0   \n",
       "4  ...                 0                0                0                0   \n",
       "\n",
       "  AMT_REQ_CREDIT_BUREAU_HOUR AMT_REQ_CREDIT_BUREAU_DAY  \\\n",
       "0                        0.0                       0.0   \n",
       "1                        0.0                       0.0   \n",
       "2                        0.0                       0.0   \n",
       "3                        NaN                       NaN   \n",
       "4                        0.0                       0.0   \n",
       "\n",
       "   AMT_REQ_CREDIT_BUREAU_WEEK  AMT_REQ_CREDIT_BUREAU_MON  \\\n",
       "0                         0.0                        0.0   \n",
       "1                         0.0                        0.0   \n",
       "2                         0.0                        0.0   \n",
       "3                         NaN                        NaN   \n",
       "4                         0.0                        0.0   \n",
       "\n",
       "   AMT_REQ_CREDIT_BUREAU_QRT  AMT_REQ_CREDIT_BUREAU_YEAR  \n",
       "0                        0.0                         1.0  \n",
       "1                        0.0                         0.0  \n",
       "2                        0.0                         0.0  \n",
       "3                        NaN                         NaN  \n",
       "4                        0.0                         0.0  \n",
       "\n",
       "[5 rows x 122 columns]"
      ]
     },
     "execution_count": 3,
     "metadata": {},
     "output_type": "execute_result"
    }
   ],
   "source": [
    "import os\n",
    "import numpy as np\n",
    "import pandas as pd\n",
    "import matplotlib.pyplot as plt\n",
    "%matplotlib inline\n",
    "dir_data = 'D:/Software/GitHub/document/3rd-ML100Days/example/Part01'\n",
    "f_app = os.path.join(dir_data, 'application_train.csv')\n",
    "print('Path of read in data: %s' % (f_app))\n",
    "app_train = pd.read_csv(f_app)\n",
    "app_train.head()"
   ]
  },
  {
   "cell_type": "code",
   "execution_count": 4,
   "metadata": {},
   "outputs": [
    {
     "data": {
      "text/plain": [
       "0           -637\n",
       "1          -1188\n",
       "2           -225\n",
       "3          -3039\n",
       "4          -3038\n",
       "5          -1588\n",
       "6          -3130\n",
       "7           -449\n",
       "8         365243\n",
       "9          -2019\n",
       "10          -679\n",
       "11        365243\n",
       "12         -2717\n",
       "13         -3028\n",
       "14          -203\n",
       "15         -1157\n",
       "16         -1317\n",
       "17          -191\n",
       "18         -7804\n",
       "19         -2038\n",
       "20         -4286\n",
       "21         -1652\n",
       "22         -4306\n",
       "23        365243\n",
       "24          -746\n",
       "25         -3494\n",
       "26         -2628\n",
       "27         -1234\n",
       "28         -1796\n",
       "29         -1010\n",
       "           ...  \n",
       "307481     -3147\n",
       "307482      -226\n",
       "307483    365243\n",
       "307484      -328\n",
       "307485      -670\n",
       "307486     -1185\n",
       "307487    365243\n",
       "307488     -1218\n",
       "307489      -286\n",
       "307490     -1928\n",
       "307491     -1953\n",
       "307492     -1618\n",
       "307493     -2306\n",
       "307494     -6573\n",
       "307495     -7438\n",
       "307496     -2178\n",
       "307497     -1222\n",
       "307498     -3689\n",
       "307499     -8694\n",
       "307500     -5326\n",
       "307501     -1046\n",
       "307502     -8736\n",
       "307503      -399\n",
       "307504     -7258\n",
       "307505    365243\n",
       "307506      -236\n",
       "307507    365243\n",
       "307508     -7921\n",
       "307509     -4786\n",
       "307510     -1262\n",
       "Name: DAYS_EMPLOYED, Length: 307511, dtype: int64"
      ]
     },
     "execution_count": 4,
     "metadata": {},
     "output_type": "execute_result"
    }
   ],
   "source": [
    "app_train['DAYS_EMPLOYED']"
   ]
  },
  {
   "cell_type": "code",
   "execution_count": 6,
   "metadata": {},
   "outputs": [],
   "source": [
    "sub_df=app_train[app_train['DAYS_EMPLOYED']!=365243]"
   ]
  },
  {
   "cell_type": "code",
   "execution_count": 7,
   "metadata": {},
   "outputs": [
    {
     "data": {
      "image/png": "[encoded data removed]",
      "text/plain": [
       "<Figure size 432x288 with 1 Axes>"
      ]
     },
     "metadata": {
      "needs_background": "light"
     },
     "output_type": "display_data"
    }
   ],
   "source": [
    "plt.plot(sub_df['DAYS_EMPLOYED']/(-365),sub_df['AMT_INCOME_TOTAL'], '.')\n",
    "plt.xlabel('Days of employed (year)')\n",
    "plt.ylabel('AMT_INCOME_TOTAL (raw)')\n",
    "plt.show()"
   ]
  },
  {
   "cell_type": "code",
   "execution_count": 10,
   "metadata": {},
   "outputs": [
    {
     "name": "stdout",
     "output_type": "stream",
     "text": [
      "Correlation: 0.0130\n"
     ]
    }
   ],
   "source": [
    "corr=np.corrcoef(sub_df['DAYS_EMPLOYED']/(-365),sub_df['AMT_INCOME_TOTAL'])\n",
    "print(\"Correlation: %.4f\" % (corr[0][1]))"
   ]
  },
  {
   "cell_type": "code",
   "execution_count": 13,
   "metadata": {},
   "outputs": [
    {
     "data": {
      "image/png": "[encoded data removed]",
      "text/plain": [
       "<Figure size 432x288 with 1 Axes>"
      ]
     },
     "metadata": {
      "needs_background": "light"
     },
     "output_type": "display_data"
    }
   ],
   "source": [
    "plt.plot(sub_df['DAYS_EMPLOYED']/(-365),np.log10(sub_df['AMT_INCOME_TOTAL']), '.')\n",
    "plt.show()"
   ]
  },
  {
   "cell_type": "code",
   "execution_count": 15,
   "metadata": {},
   "outputs": [
    {
     "name": "stdout",
     "output_type": "stream",
     "text": [
      "Correlation: 0.0380\n"
     ]
    }
   ],
   "source": [
    "corr=np.corrcoef(sub_df['DAYS_EMPLOYED']/(-365),np.log10(sub_df['AMT_INCOME_TOTAL']))\n",
    "print(\"Correlation: %.4f\" % (corr[0][1]))"
   ]
  },
  {
   "cell_type": "code",
   "execution_count": 16,
   "metadata": {},
   "outputs": [
    {
     "data": {
      "text/plain": [
       "SK_ID_CURR                    -0.002108\n",
       "TARGET                         1.000000\n",
       "CNT_CHILDREN                   0.019187\n",
       "AMT_INCOME_TOTAL              -0.003982\n",
       "AMT_CREDIT                    -0.030369\n",
       "AMT_ANNUITY                   -0.012817\n",
       "AMT_GOODS_PRICE               -0.039645\n",
       "REGION_POPULATION_RELATIVE    -0.037227\n",
       "DAYS_BIRTH                     0.078239\n",
       "DAYS_EMPLOYED                 -0.044932\n",
       "DAYS_REGISTRATION              0.041975\n",
       "DAYS_ID_PUBLISH                0.051457\n",
       "OWN_CAR_AGE                    0.037612\n",
       "FLAG_MOBIL                     0.000534\n",
       "FLAG_EMP_PHONE                 0.045982\n",
       "FLAG_WORK_PHONE                0.028524\n",
       "FLAG_CONT_MOBILE               0.000370\n",
       "FLAG_PHONE                    -0.023806\n",
       "FLAG_EMAIL                    -0.001758\n",
       "CNT_FAM_MEMBERS                0.009308\n",
       "REGION_RATING_CLIENT           0.058899\n",
       "REGION_RATING_CLIENT_W_CITY    0.060893\n",
       "HOUR_APPR_PROCESS_START       -0.024166\n",
       "REG_REGION_NOT_LIVE_REGION     0.005576\n",
       "REG_REGION_NOT_WORK_REGION     0.006942\n",
       "LIVE_REGION_NOT_WORK_REGION    0.002819\n",
       "REG_CITY_NOT_LIVE_CITY         0.044395\n",
       "REG_CITY_NOT_WORK_CITY         0.050994\n",
       "LIVE_CITY_NOT_WORK_CITY        0.032518\n",
       "EXT_SOURCE_1                  -0.155317\n",
       "                                 ...   \n",
       "DEF_30_CNT_SOCIAL_CIRCLE       0.032248\n",
       "OBS_60_CNT_SOCIAL_CIRCLE       0.009022\n",
       "DEF_60_CNT_SOCIAL_CIRCLE       0.031276\n",
       "DAYS_LAST_PHONE_CHANGE         0.055218\n",
       "FLAG_DOCUMENT_2                0.005417\n",
       "FLAG_DOCUMENT_3                0.044346\n",
       "FLAG_DOCUMENT_4               -0.002672\n",
       "FLAG_DOCUMENT_5               -0.000316\n",
       "FLAG_DOCUMENT_6               -0.028602\n",
       "FLAG_DOCUMENT_7               -0.001520\n",
       "FLAG_DOCUMENT_8               -0.008040\n",
       "FLAG_DOCUMENT_9               -0.004352\n",
       "FLAG_DOCUMENT_10              -0.001414\n",
       "FLAG_DOCUMENT_11              -0.004229\n",
       "FLAG_DOCUMENT_12              -0.000756\n",
       "FLAG_DOCUMENT_13              -0.011583\n",
       "FLAG_DOCUMENT_14              -0.009464\n",
       "FLAG_DOCUMENT_15              -0.006536\n",
       "FLAG_DOCUMENT_16              -0.011615\n",
       "FLAG_DOCUMENT_17              -0.003378\n",
       "FLAG_DOCUMENT_18              -0.007952\n",
       "FLAG_DOCUMENT_19              -0.001358\n",
       "FLAG_DOCUMENT_20               0.000215\n",
       "FLAG_DOCUMENT_21               0.003709\n",
       "AMT_REQ_CREDIT_BUREAU_HOUR     0.000930\n",
       "AMT_REQ_CREDIT_BUREAU_DAY      0.002704\n",
       "AMT_REQ_CREDIT_BUREAU_WEEK     0.000788\n",
       "AMT_REQ_CREDIT_BUREAU_MON     -0.012462\n",
       "AMT_REQ_CREDIT_BUREAU_QRT     -0.002022\n",
       "AMT_REQ_CREDIT_BUREAU_YEAR     0.019930\n",
       "Name: TARGET, Length: 106, dtype: float64"
      ]
     },
     "execution_count": 16,
     "metadata": {},
     "output_type": "execute_result"
    }
   ],
   "source": [
    "app_train.corr()['TARGET']"
   ]
  },
  {
   "cell_type": "code",
   "execution_count": 27,
   "metadata": {},
   "outputs": [
    {
     "data": {
      "text/plain": [
       "TARGET                         1.000000\n",
       "DAYS_BIRTH                     0.078239\n",
       "REGION_RATING_CLIENT_W_CITY    0.060893\n",
       "REGION_RATING_CLIENT           0.058899\n",
       "DAYS_LAST_PHONE_CHANGE         0.055218\n",
       "DAYS_ID_PUBLISH                0.051457\n",
       "REG_CITY_NOT_WORK_CITY         0.050994\n",
       "FLAG_EMP_PHONE                 0.045982\n",
       "REG_CITY_NOT_LIVE_CITY         0.044395\n",
       "FLAG_DOCUMENT_3                0.044346\n",
       "DAYS_REGISTRATION              0.041975\n",
       "OWN_CAR_AGE                    0.037612\n",
       "LIVE_CITY_NOT_WORK_CITY        0.032518\n",
       "DEF_30_CNT_SOCIAL_CIRCLE       0.032248\n",
       "DEF_60_CNT_SOCIAL_CIRCLE       0.031276\n",
       "Name: TARGET, dtype: float64"
      ]
     },
     "execution_count": 27,
     "metadata": {},
     "output_type": "execute_result"
    }
   ],
   "source": [
    "(app_train.corr()['TARGET']).sort_values(ascending=False).head(15)"
   ]
  },
  {
   "cell_type": "code",
   "execution_count": 28,
   "metadata": {},
   "outputs": [
    {
     "data": {
      "text/plain": [
       "LIVINGAREA_MEDI              -0.032739\n",
       "LIVINGAREA_AVG               -0.032997\n",
       "FLOORSMIN_MEDI               -0.033394\n",
       "FLOORSMIN_AVG                -0.033614\n",
       "ELEVATORS_MEDI               -0.033863\n",
       "ELEVATORS_AVG                -0.034199\n",
       "REGION_POPULATION_RELATIVE   -0.037227\n",
       "AMT_GOODS_PRICE              -0.039645\n",
       "FLOORSMAX_MODE               -0.043226\n",
       "FLOORSMAX_MEDI               -0.043768\n",
       "FLOORSMAX_AVG                -0.044003\n",
       "DAYS_EMPLOYED                -0.044932\n",
       "EXT_SOURCE_1                 -0.155317\n",
       "EXT_SOURCE_2                 -0.160472\n",
       "EXT_SOURCE_3                 -0.178919\n",
       "Name: TARGET, dtype: float64"
      ]
     },
     "execution_count": 28,
     "metadata": {},
     "output_type": "execute_result"
    }
   ],
   "source": [
    "(app_train.corr()['TARGET']).sort_values(ascending=False).tail(15)"
   ]
  },
  {
   "cell_type": "code",
   "execution_count": 55,
   "metadata": {},
   "outputs": [
    {
     "name": "stdout",
     "output_type": "stream",
     "text": [
      "Correlation: nan\n"
     ]
    },
    {
     "name": "stderr",
     "output_type": "stream",
     "text": [
      "D:\\Software\\Anaconda\\anaconda\\lib\\site-packages\\ipykernel_launcher.py:4: RuntimeWarning: divide by zero encountered in log10\n",
      "  after removing the cwd from sys.path.\n",
      "D:\\Software\\Anaconda\\anaconda\\lib\\site-packages\\ipykernel_launcher.py:4: RuntimeWarning: invalid value encountered in log10\n",
      "  after removing the cwd from sys.path.\n"
     ]
    },
    {
     "data": {
      "text/plain": [
       "[<matplotlib.lines.Line2D at 0x12c0f81ea90>]"
      ]
     },
     "execution_count": 55,
     "metadata": {},
     "output_type": "execute_result"
    },
    {
     "data": {
      "image/png": "[encoded data removed]",
      "text/plain": [
       "<Figure size 432x288 with 1 Axes>"
      ]
     },
     "metadata": {
      "needs_background": "light"
     },
     "output_type": "display_data"
    }
   ],
   "source": [
    "corr=np.corrcoef(app_train['TARGET'],app_train['LIVINGAREA_MEDI'])\n",
    "print(\"Correlation: %.4f\" % (corr[0][1]))\n",
    "\n",
    "plt.plot(app_train['TARGET'],np.log10(app_train['LIVINGAREA_MEDI']),'.')\n"
   ]
  },
  {
   "cell_type": "code",
   "execution_count": null,
   "metadata": {},
   "outputs": [],
   "source": []
  }
 ],
 "metadata": {
  "kernelspec": {
   "display_name": "Python 3",
   "language": "python",
   "name": "python3"
  },
  "language_info": {
   "codemirror_mode": {
    "name": "ipython",
    "version": 3
   },
   "file_extension": ".py",
   "mimetype": "text/x-python",
   "name": "python",
   "nbconvert_exporter": "python",
   "pygments_lexer": "ipython3",
   "version": "3.7.3"
  }
 },
 "nbformat": 4,
 "nbformat_minor": 2
}
